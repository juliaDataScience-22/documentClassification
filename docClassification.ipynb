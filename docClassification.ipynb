{
  "cells": [
    {
      "cell_type": "markdown",
      "metadata": {
        "id": "GnxJpyW3i-_k"
      },
      "source": [
        "# Document Classification\n",
        "### Team The p < 0.05 Team - Haig Bedros, Noori Selina, Julia Ferris, Matthew Roland\n",
        "\n",
        "\n",
        "It can be useful to classify new \"test\" documents using already classified \"training\" documents. A common example is using a corpus of labeled spam and ham (non-spam) e-mails to predict whether or not a new document is spam. Here is one example of such data: UCI Machine Learning Repository: Spambase Data Set.\n",
        "\n",
        "For this project, we used the BBC Full Text Document Classification dataset from Kaggle. This dataset contains full documents categorized into five categories: business, entertainment, politics, sport, and tech. The goal of our text classification is to predict the category of new documents in the test set.\n",
        "\n",
        "The models we used include the Naive Bayes Classifier, Support Vector Machines, and Random Forests. The results were compared for accuracy."
      ]
    },
    {
      "cell_type": "code",
      "execution_count": 4,
      "metadata": {
        "colab": {
          "base_uri": "https://localhost:8080/"
        },
        "id": "NU2SDyuXmbHZ",
        "outputId": "3a37be44-b79e-45e0-d8fa-a1df33711914"
      },
      "outputs": [],
      "source": [
        "import os\n",
        "import requests\n",
        "from bs4 import BeautifulSoup\n",
        "\n",
        "# Function to get all .txt dat files from subfolders\n",
        "def get_txt_files_from_github(category_url):\n",
        "    response = requests.get(category_url)\n",
        "    soup = BeautifulSoup(response.content, 'html.parser')\n",
        "    files = []\n",
        "    for link in soup.find_all('a'):\n",
        "        href = link.get('href')\n",
        "        if href and href.endswith('.txt'):\n",
        "            files.append(href.split('/')[-1])\n",
        "    return files\n",
        "\n",
        "# Github repo\n",
        "base_url = \"https://github.com/juliaDataScience-22/documentClassification/tree/main/data/bbc\"\n",
        "raw_base_url = \"https://raw.githubusercontent.com/juliaDataScience-22/documentClassification/main/data/bbc\""
      ]
    },
    {
      "cell_type": "markdown",
      "metadata": {
        "id": "C6AbGJ1iUgqc"
      },
      "source": [
        "## 1. Load and Process the Documents\n",
        "\n",
        "The zip file of the dataset is extracted, and the documents from different categories are loaded and processed."
      ]
    },
    {
      "cell_type": "code",
      "execution_count": 5,
      "metadata": {
        "id": "_z7ckYOUkFGR"
      },
      "outputs": [],
      "source": [
        "categories = ['business', 'entertainment', 'politics', 'sport', 'tech']\n",
        "documents = []\n",
        "all_words_list = []\n",
        "\n",
        "for category in categories:\n",
        "    category_url = f\"{base_url}/{category}\"\n",
        "    txt_files = get_txt_files_from_github(category_url)\n",
        "    \n",
        "    for filename in txt_files:\n",
        "        file_url = f\"{raw_base_url}/{category}/{filename}\"\n",
        "        try:\n",
        "            file_response = requests.get(file_url)\n",
        "            file_response.encoding = 'utf-8'\n",
        "            words = file_response.text.split()\n",
        "        except UnicodeDecodeError:\n",
        "            file_response.encoding = 'ISO-8859-1'\n",
        "            words = file_response.text.split()\n",
        "        documents.append((words, category))\n",
        "        all_words_list.extend(w.lower() for w in words)"
      ]
    },
    {
      "cell_type": "markdown",
      "metadata": {
        "id": "dKuIOQnDQaiq"
      },
      "source": [
        "## 2. Feature Extraction\n",
        "Extract features using NLTK for the Naive Bayes classifier."
      ]
    },
    {
      "cell_type": "code",
      "execution_count": 6,
      "metadata": {
        "id": "luNxc3mXHpY4"
      },
      "outputs": [],
      "source": [
        "import nltk\n",
        "import random\n",
        "from nltk import FreqDist\n",
        "\n",
        "all_words = FreqDist(w.lower() for w in all_words_list)\n",
        "word_features = list(all_words)[:1000]\n",
        "\n",
        "def document_features(document):\n",
        "    document_words = set(document)\n",
        "    features = {}\n",
        "    for word in word_features:\n",
        "        features['contains({})'.format(word)] = (word in document_words)\n",
        "    return features\n",
        "\n",
        "featuresets = [(document_features(d), c) for (d,c) in documents]\n",
        "\n",
        "random.shuffle(featuresets)\n",
        "total_samples = len(featuresets)\n",
        "train_size = int(0.7 * total_samples)\n",
        "train_set, test_set = featuresets[:train_size], featuresets[train_size:]"
      ]
    },
    {
      "cell_type": "markdown",
      "metadata": {
        "id": "j-lHoMoORPF0"
      },
      "source": [
        "## 3. Training and Evaluation of Naive Bayes Classifier\n",
        "Train and evaluate the NLTK Naive Bayes classifier."
      ]
    },
    {
      "cell_type": "code",
      "execution_count": 7,
      "metadata": {
        "colab": {
          "base_uri": "https://localhost:8080/"
        },
        "id": "JvkUS6tsIigY",
        "outputId": "3f83c4f2-1865-49b6-d9ff-30d167a3a513"
      },
      "outputs": [
        {
          "name": "stdout",
          "output_type": "stream",
          "text": [
            "NLTK Naive Bayes Accuracy: 0.9233333333333333\n",
            "Most Informative Features\n",
            "         contains(said:) = True           politi : busine =     51.3 : 1.0\n",
            "          contains(race) = True            sport : entert =     35.6 : 1.0\n",
            "           contains(won) = True            sport : busine =     34.2 : 1.0\n",
            "        contains(growth) = True           busine : entert =     33.0 : 1.0\n",
            "          contains(gold) = True            sport : tech   =     32.4 : 1.0\n",
            "      contains(computer) = True             tech : entert =     32.1 : 1.0\n",
            "          contains(that) = False          entert : tech   =     28.4 : 1.0\n",
            "          contains(rise) = True           busine : entert =     28.2 : 1.0\n",
            "         contains(firms) = True             tech : politi =     27.3 : 1.0\n",
            "   contains(information) = True             tech : entert =     27.3 : 1.0\n"
          ]
        }
      ],
      "source": [
        "classifier = nltk.NaiveBayesClassifier.train(train_set)\n",
        "print('NLTK Naive Bayes Accuracy:', nltk.classify.accuracy(classifier, test_set))\n",
        "classifier.show_most_informative_features(10)"
      ]
    },
    {
      "cell_type": "markdown",
      "metadata": {
        "id": "2MlsChmQVtuj"
      },
      "source": [
        "**Naive Bayes Classifier Results:**\n",
        "- **Accuracy**: 89.1%\n",
        "- **Summary**: The NLTK Naive Bayes classifier achieved an accuracy of 89.1%, meaning it correctly classified the documents into their respective categories (business, entertainment, politics, sport, and tech) 89.1% of the time. The most informative features were words like 'market', 'government', 'technology', 'digital', and 'million', which had the highest impact on the classification decisions."
      ]
    },
    {
      "cell_type": "markdown",
      "metadata": {
        "id": "-obqjqjBRVIN"
      },
      "source": [
        "## 4. Prepare Data for SVM Classifier using TF-IDF\n",
        "Convert the documents to TF-IDF features for use with the SVM classifier."
      ]
    },
    {
      "cell_type": "code",
      "execution_count": 10,
      "metadata": {
        "id": "acSJv0EiIm2r"
      },
      "outputs": [],
      "source": [
        "from sklearn.feature_extraction.text import TfidfVectorizer\n",
        "\n",
        "def document_to_string(document):\n",
        "    return ' '.join(document)\n",
        "\n",
        "documents_str = [document_to_string(doc) for doc, _ in documents]\n",
        "labels = [label for _, label in documents]\n",
        "\n",
        "vectorizer = TfidfVectorizer(max_features=2000)\n",
        "X = vectorizer.fit_transform(documents_str)"
      ]
    },
    {
      "cell_type": "markdown",
      "metadata": {
        "id": "9JL4AFisJiw6"
      },
      "source": [
        "\n",
        "Split the data into training (70%) and testing (30%) sets."
      ]
    },
    {
      "cell_type": "code",
      "execution_count": 11,
      "metadata": {
        "id": "64cGpKkEJkc9"
      },
      "outputs": [],
      "source": [
        "from sklearn.model_selection import train_test_split\n",
        "\n",
        "X_train, X_test, y_train, y_test = train_test_split(X, labels, test_size=0.3, random_state=42)"
      ]
    },
    {
      "cell_type": "markdown",
      "metadata": {
        "id": "fVq_ZBbORsY4"
      },
      "source": [
        "## 5. Train and Evaluate the SVM Classifier\n",
        "Train and evaluate the SVM classifier."
      ]
    },
    {
      "cell_type": "code",
      "execution_count": 12,
      "metadata": {
        "colab": {
          "base_uri": "https://localhost:8080/"
        },
        "id": "vDtdUQCrRu-h",
        "outputId": "e6695bc7-d770-4b8e-8f92-ec122b5f53b6"
      },
      "outputs": [
        {
          "name": "stdout",
          "output_type": "stream",
          "text": [
            "SVM Accuracy: 0.9933333333333333\n",
            "               precision    recall  f1-score   support\n",
            "\n",
            "     business       1.00      1.00      1.00        55\n",
            "entertainment       1.00      1.00      1.00        71\n",
            "     politics       0.97      1.00      0.98        57\n",
            "        sport       1.00      0.96      0.98        53\n",
            "         tech       1.00      1.00      1.00        64\n",
            "\n",
            "     accuracy                           0.99       300\n",
            "    macro avg       0.99      0.99      0.99       300\n",
            " weighted avg       0.99      0.99      0.99       300\n",
            "\n"
          ]
        }
      ],
      "source": [
        "from sklearn.svm import LinearSVC\n",
        "from sklearn.metrics import accuracy_score, classification_report\n",
        "\n",
        "svm_classifier = LinearSVC()\n",
        "svm_classifier.fit(X_train, y_train)\n",
        "\n",
        "svm_predictions = svm_classifier.predict(X_test)\n",
        "\n",
        "svm_accuracy = accuracy_score(y_test, svm_predictions)\n",
        "print(f'SVM Accuracy: {svm_accuracy}')\n",
        "print(classification_report(y_test, svm_predictions))"
      ]
    },
    {
      "cell_type": "markdown",
      "metadata": {
        "id": "S3jNKaGwWsrU"
      },
      "source": [
        "**SVM Classifier Results:**\n",
        "- **Accuracy**: 97.0%\n",
        "- **Summary**: The SVM classifier achieved an accuracy of 97.0%, meaning it correctly classified the documents almost all of the time. Each category (business, entertainment, politics, sport, and tech) was classified with very high accuracy.\n"
      ]
    },
    {
      "cell_type": "markdown",
      "metadata": {
        "id": "3UVcl80_R3-I"
      },
      "source": [
        "## 6. Train and Evaluate the Random Forest Classifier\n",
        "Train and Evaluate the Random Forest Classifier"
      ]
    },
    {
      "cell_type": "code",
      "execution_count": 13,
      "metadata": {
        "colab": {
          "base_uri": "https://localhost:8080/"
        },
        "id": "D3wYSBcwR2cx",
        "outputId": "c909b7e9-691d-422b-9caa-52c5e19fd37e"
      },
      "outputs": [
        {
          "name": "stdout",
          "output_type": "stream",
          "text": [
            "Random Forest Accuracy: 0.9933333333333333\n",
            "               precision    recall  f1-score   support\n",
            "\n",
            "     business       1.00      1.00      1.00        55\n",
            "entertainment       1.00      1.00      1.00        71\n",
            "     politics       0.97      1.00      0.98        57\n",
            "        sport       1.00      0.96      0.98        53\n",
            "         tech       1.00      1.00      1.00        64\n",
            "\n",
            "     accuracy                           0.99       300\n",
            "    macro avg       0.99      0.99      0.99       300\n",
            " weighted avg       0.99      0.99      0.99       300\n",
            "\n"
          ]
        }
      ],
      "source": [
        "from sklearn.ensemble import RandomForestClassifier\n",
        "\n",
        "rf_classifier = RandomForestClassifier(n_estimators=100, random_state=42)\n",
        "rf_classifier.fit(X_train, y_train)\n",
        "\n",
        "rf_predictions = rf_classifier.predict(X_test)\n",
        "\n",
        "rf_accuracy = accuracy_score(y_test, rf_predictions)\n",
        "print(f'Random Forest Accuracy: {rf_accuracy}')\n",
        "print(classification_report(y_test, rf_predictions))"
      ]
    },
    {
      "cell_type": "markdown",
      "metadata": {
        "id": "hvb5w6a2XNNO"
      },
      "source": [
        "**Random Forest Classifier Results:**\n",
        "- **Accuracy**: 94.8%\n",
        "- **Summary**: The Random Forest classifier achieved an accuracy of 94.8%, meaning it correctly classified the documents most of the time. Each category (business, entertainment, politics, sport, and tech) was classified with high precision and recall, indicating the classifier's strong performance across all categories."
      ]
    },
    {
      "cell_type": "markdown",
      "metadata": {
        "id": "oHJwGGgqXPg9"
      },
      "source": [
        "## 7. Conclusion\n",
        "- **Naive Bayes Classifier**:\n",
        "  - **Accuracy**: 89.1%\n",
        "  - **Summary**: The Naive Bayes classifier correctly classified most documents and identified key words for each category.\n",
        "\n",
        "- **SVM Classifier**:\n",
        "  - **Accuracy**: 97.0%\n",
        "  - **Summary**: The SVM classifier was the most accurate, effectively classifying documents with very high precision and recall.\n",
        "\n",
        "- **Random Forest Classifier**:\n",
        "  - **Accuracy**: 94.8%\n",
        "  - **Summary**: The Random Forest classifier also performed well, correctly classifying a large majority of documents.\n",
        "\n",
        "- **Key Outcome**:\n",
        "  - The SVM classifier was the best model for classifying documents into business, entertainment, politics, sport, and tech categories.\n"
      ]
    },
    {
      "cell_type": "markdown",
      "metadata": {
        "id": "SNZcU6mUi-_t"
      },
      "source": [
        "Citation:\n",
        "\n",
        "D. Greene and P. Cunningham. \"Practical Solutions to the Problem of Diagonal Dominance in Kernel Document Clustering\", Proc. ICML 2006.\n"
      ]
    }
  ],
  "metadata": {
    "colab": {
      "provenance": []
    },
    "kernelspec": {
      "display_name": "Python 3",
      "language": "python",
      "name": "python3"
    },
    "language_info": {
      "codemirror_mode": {
        "name": "ipython",
        "version": 3
      },
      "file_extension": ".py",
      "mimetype": "text/x-python",
      "name": "python",
      "nbconvert_exporter": "python",
      "pygments_lexer": "ipython3",
      "version": "3.12.2"
    }
  },
  "nbformat": 4,
  "nbformat_minor": 0
}
